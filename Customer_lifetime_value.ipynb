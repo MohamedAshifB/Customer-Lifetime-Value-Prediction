{
 "cells": [
  {
   "cell_type": "code",
   "execution_count": 1,
   "id": "c13a3d28-3d11-4c5a-8ae0-e8f5121e76c4",
   "metadata": {},
   "outputs": [
    {
     "name": "stdout",
     "output_type": "stream",
     "text": [
      "Requirement already satisfied: lifetimes in c:\\users\\ashif\\appdata\\local\\programs\\python\\python312\\lib\\site-packages (0.11.3)\n",
      "Requirement already satisfied: numpy>=1.10.0 in c:\\users\\ashif\\appdata\\local\\programs\\python\\python312\\lib\\site-packages (from lifetimes) (2.1.3)\n",
      "Requirement already satisfied: scipy>=1.0.0 in c:\\users\\ashif\\appdata\\local\\programs\\python\\python312\\lib\\site-packages (from lifetimes) (1.15.2)\n",
      "Requirement already satisfied: pandas>=0.24.0 in c:\\users\\ashif\\appdata\\local\\programs\\python\\python312\\lib\\site-packages (from lifetimes) (2.2.3)\n",
      "Requirement already satisfied: autograd>=1.2.0 in c:\\users\\ashif\\appdata\\local\\programs\\python\\python312\\lib\\site-packages (from lifetimes) (1.8.0)\n",
      "Requirement already satisfied: dill>=0.2.6 in c:\\users\\ashif\\appdata\\local\\programs\\python\\python312\\lib\\site-packages (from lifetimes) (0.4.0)\n",
      "Requirement already satisfied: python-dateutil>=2.8.2 in c:\\users\\ashif\\appdata\\local\\programs\\python\\python312\\lib\\site-packages (from pandas>=0.24.0->lifetimes) (2.9.0.post0)\n",
      "Requirement already satisfied: pytz>=2020.1 in c:\\users\\ashif\\appdata\\local\\programs\\python\\python312\\lib\\site-packages (from pandas>=0.24.0->lifetimes) (2025.2)\n",
      "Requirement already satisfied: tzdata>=2022.7 in c:\\users\\ashif\\appdata\\local\\programs\\python\\python312\\lib\\site-packages (from pandas>=0.24.0->lifetimes) (2025.2)\n",
      "Requirement already satisfied: six>=1.5 in c:\\users\\ashif\\appdata\\local\\programs\\python\\python312\\lib\\site-packages (from python-dateutil>=2.8.2->pandas>=0.24.0->lifetimes) (1.17.0)\n"
     ]
    },
    {
     "name": "stderr",
     "output_type": "stream",
     "text": [
      "\n",
      "[notice] A new release of pip is available: 25.0.1 -> 25.1.1\n",
      "[notice] To update, run: python.exe -m pip install --upgrade pip\n"
     ]
    }
   ],
   "source": [
    "!pip install lifetimes"
   ]
  },
  {
   "cell_type": "code",
   "execution_count": 2,
   "id": "743e1531-a5a8-42dc-b0c4-47371bc5a985",
   "metadata": {},
   "outputs": [
    {
     "name": "stdout",
     "output_type": "stream",
     "text": [
      "Requirement already satisfied: openpyxl in c:\\users\\ashif\\appdata\\local\\programs\\python\\python312\\lib\\site-packages (3.1.5)\n",
      "Requirement already satisfied: et-xmlfile in c:\\users\\ashif\\appdata\\local\\programs\\python\\python312\\lib\\site-packages (from openpyxl) (2.0.0)\n"
     ]
    },
    {
     "name": "stderr",
     "output_type": "stream",
     "text": [
      "\n",
      "[notice] A new release of pip is available: 25.0.1 -> 25.1.1\n",
      "[notice] To update, run: python.exe -m pip install --upgrade pip\n"
     ]
    }
   ],
   "source": [
    "!pip install openpyxl"
   ]
  },
  {
   "cell_type": "code",
   "execution_count": 3,
   "id": "1a73118a-584c-4f03-99c6-410c6a3aca8e",
   "metadata": {},
   "outputs": [],
   "source": [
    "import lifetimes\n",
    "\n",
    "import pandas as pd \n",
    "import numpy as np \n",
    "import datetime as dt \n",
    "import openpyxl\n",
    "\n",
    "import matplotlib.pyplot as plt \n",
    "import seaborn as sns\n",
    "\n",
    "from lifetimes import BetaGeoFitter\n",
    "from lifetimes import GammaGammaFitter \n",
    "from sklearn.preprocessing import MinMaxScaler\n",
    "\n",
    "from lifetimes.plotting import plot_frequency_recency_matrix\n",
    "from lifetimes.plotting import plot_probability_alive_matrix\n",
    "from lifetimes.plotting import plot_period_transactions\n",
    "\n",
    "pd.set_option('display.max_rows',500)\n",
    "pd.set_option('display.max_columns',500)\n",
    "pd.set_option('display.width',1000)"
   ]
  },
  {
   "cell_type": "code",
   "execution_count": null,
   "id": "13ae172c-0013-4572-938d-dba2b7d59f51",
   "metadata": {},
   "outputs": [],
   "source": []
  },
  {
   "cell_type": "code",
   "execution_count": 4,
   "id": "4401f925-db9c-4fa8-a51b-1d70438a1508",
   "metadata": {},
   "outputs": [],
   "source": [
    "df = pd.read_excel(\"Online Retail.xlsx\")"
   ]
  },
  {
   "cell_type": "code",
   "execution_count": 5,
   "id": "46910d5a-0534-4d80-800f-7c4d12633114",
   "metadata": {},
   "outputs": [
    {
     "data": {
      "text/html": [
       "<div>\n",
       "<style scoped>\n",
       "    .dataframe tbody tr th:only-of-type {\n",
       "        vertical-align: middle;\n",
       "    }\n",
       "\n",
       "    .dataframe tbody tr th {\n",
       "        vertical-align: top;\n",
       "    }\n",
       "\n",
       "    .dataframe thead th {\n",
       "        text-align: right;\n",
       "    }\n",
       "</style>\n",
       "<table border=\"1\" class=\"dataframe\">\n",
       "  <thead>\n",
       "    <tr style=\"text-align: right;\">\n",
       "      <th></th>\n",
       "      <th>InvoiceNo</th>\n",
       "      <th>StockCode</th>\n",
       "      <th>Description</th>\n",
       "      <th>Quantity</th>\n",
       "      <th>InvoiceDate</th>\n",
       "      <th>UnitPrice</th>\n",
       "      <th>CustomerID</th>\n",
       "      <th>Country</th>\n",
       "    </tr>\n",
       "  </thead>\n",
       "  <tbody>\n",
       "    <tr>\n",
       "      <th>0</th>\n",
       "      <td>536365</td>\n",
       "      <td>85123A</td>\n",
       "      <td>WHITE HANGING HEART T-LIGHT HOLDER</td>\n",
       "      <td>6</td>\n",
       "      <td>2010-12-01 08:26:00</td>\n",
       "      <td>2.55</td>\n",
       "      <td>17850.0</td>\n",
       "      <td>United Kingdom</td>\n",
       "    </tr>\n",
       "    <tr>\n",
       "      <th>1</th>\n",
       "      <td>536365</td>\n",
       "      <td>71053</td>\n",
       "      <td>WHITE METAL LANTERN</td>\n",
       "      <td>6</td>\n",
       "      <td>2010-12-01 08:26:00</td>\n",
       "      <td>3.39</td>\n",
       "      <td>17850.0</td>\n",
       "      <td>United Kingdom</td>\n",
       "    </tr>\n",
       "    <tr>\n",
       "      <th>2</th>\n",
       "      <td>536365</td>\n",
       "      <td>84406B</td>\n",
       "      <td>CREAM CUPID HEARTS COAT HANGER</td>\n",
       "      <td>8</td>\n",
       "      <td>2010-12-01 08:26:00</td>\n",
       "      <td>2.75</td>\n",
       "      <td>17850.0</td>\n",
       "      <td>United Kingdom</td>\n",
       "    </tr>\n",
       "    <tr>\n",
       "      <th>3</th>\n",
       "      <td>536365</td>\n",
       "      <td>84029G</td>\n",
       "      <td>KNITTED UNION FLAG HOT WATER BOTTLE</td>\n",
       "      <td>6</td>\n",
       "      <td>2010-12-01 08:26:00</td>\n",
       "      <td>3.39</td>\n",
       "      <td>17850.0</td>\n",
       "      <td>United Kingdom</td>\n",
       "    </tr>\n",
       "    <tr>\n",
       "      <th>4</th>\n",
       "      <td>536365</td>\n",
       "      <td>84029E</td>\n",
       "      <td>RED WOOLLY HOTTIE WHITE HEART.</td>\n",
       "      <td>6</td>\n",
       "      <td>2010-12-01 08:26:00</td>\n",
       "      <td>3.39</td>\n",
       "      <td>17850.0</td>\n",
       "      <td>United Kingdom</td>\n",
       "    </tr>\n",
       "  </tbody>\n",
       "</table>\n",
       "</div>"
      ],
      "text/plain": [
       "  InvoiceNo StockCode                          Description  Quantity         InvoiceDate  UnitPrice  CustomerID         Country\n",
       "0    536365    85123A   WHITE HANGING HEART T-LIGHT HOLDER         6 2010-12-01 08:26:00       2.55     17850.0  United Kingdom\n",
       "1    536365     71053                  WHITE METAL LANTERN         6 2010-12-01 08:26:00       3.39     17850.0  United Kingdom\n",
       "2    536365    84406B       CREAM CUPID HEARTS COAT HANGER         8 2010-12-01 08:26:00       2.75     17850.0  United Kingdom\n",
       "3    536365    84029G  KNITTED UNION FLAG HOT WATER BOTTLE         6 2010-12-01 08:26:00       3.39     17850.0  United Kingdom\n",
       "4    536365    84029E       RED WOOLLY HOTTIE WHITE HEART.         6 2010-12-01 08:26:00       3.39     17850.0  United Kingdom"
      ]
     },
     "execution_count": 5,
     "metadata": {},
     "output_type": "execute_result"
    }
   ],
   "source": [
    "df.head()"
   ]
  },
  {
   "cell_type": "code",
   "execution_count": 6,
   "id": "0e3a4a5c-d995-4086-aa9c-9aaeeed019e0",
   "metadata": {},
   "outputs": [
    {
     "name": "stdout",
     "output_type": "stream",
     "text": [
      "<class 'pandas.core.frame.DataFrame'>\n",
      "RangeIndex: 541909 entries, 0 to 541908\n",
      "Data columns (total 8 columns):\n",
      " #   Column       Non-Null Count   Dtype         \n",
      "---  ------       --------------   -----         \n",
      " 0   InvoiceNo    541909 non-null  object        \n",
      " 1   StockCode    541909 non-null  object        \n",
      " 2   Description  540455 non-null  object        \n",
      " 3   Quantity     541909 non-null  int64         \n",
      " 4   InvoiceDate  541909 non-null  datetime64[ns]\n",
      " 5   UnitPrice    541909 non-null  float64       \n",
      " 6   CustomerID   406829 non-null  float64       \n",
      " 7   Country      541909 non-null  object        \n",
      "dtypes: datetime64[ns](1), float64(2), int64(1), object(4)\n",
      "memory usage: 33.1+ MB\n"
     ]
    }
   ],
   "source": [
    "df.info()"
   ]
  },
  {
   "cell_type": "code",
   "execution_count": 7,
   "id": "fa507db7-1102-4410-9a47-d8459b5f6307",
   "metadata": {},
   "outputs": [
    {
     "data": {
      "text/html": [
       "<div>\n",
       "<style scoped>\n",
       "    .dataframe tbody tr th:only-of-type {\n",
       "        vertical-align: middle;\n",
       "    }\n",
       "\n",
       "    .dataframe tbody tr th {\n",
       "        vertical-align: top;\n",
       "    }\n",
       "\n",
       "    .dataframe thead th {\n",
       "        text-align: right;\n",
       "    }\n",
       "</style>\n",
       "<table border=\"1\" class=\"dataframe\">\n",
       "  <thead>\n",
       "    <tr style=\"text-align: right;\">\n",
       "      <th></th>\n",
       "      <th>Quantity</th>\n",
       "      <th>InvoiceDate</th>\n",
       "      <th>UnitPrice</th>\n",
       "      <th>CustomerID</th>\n",
       "    </tr>\n",
       "  </thead>\n",
       "  <tbody>\n",
       "    <tr>\n",
       "      <th>count</th>\n",
       "      <td>541909.000000</td>\n",
       "      <td>541909</td>\n",
       "      <td>541909.000000</td>\n",
       "      <td>406829.000000</td>\n",
       "    </tr>\n",
       "    <tr>\n",
       "      <th>mean</th>\n",
       "      <td>9.552250</td>\n",
       "      <td>2011-07-04 13:34:57.156386048</td>\n",
       "      <td>4.611114</td>\n",
       "      <td>15287.690570</td>\n",
       "    </tr>\n",
       "    <tr>\n",
       "      <th>min</th>\n",
       "      <td>-80995.000000</td>\n",
       "      <td>2010-12-01 08:26:00</td>\n",
       "      <td>-11062.060000</td>\n",
       "      <td>12346.000000</td>\n",
       "    </tr>\n",
       "    <tr>\n",
       "      <th>25%</th>\n",
       "      <td>1.000000</td>\n",
       "      <td>2011-03-28 11:34:00</td>\n",
       "      <td>1.250000</td>\n",
       "      <td>13953.000000</td>\n",
       "    </tr>\n",
       "    <tr>\n",
       "      <th>50%</th>\n",
       "      <td>3.000000</td>\n",
       "      <td>2011-07-19 17:17:00</td>\n",
       "      <td>2.080000</td>\n",
       "      <td>15152.000000</td>\n",
       "    </tr>\n",
       "    <tr>\n",
       "      <th>75%</th>\n",
       "      <td>10.000000</td>\n",
       "      <td>2011-10-19 11:27:00</td>\n",
       "      <td>4.130000</td>\n",
       "      <td>16791.000000</td>\n",
       "    </tr>\n",
       "    <tr>\n",
       "      <th>max</th>\n",
       "      <td>80995.000000</td>\n",
       "      <td>2011-12-09 12:50:00</td>\n",
       "      <td>38970.000000</td>\n",
       "      <td>18287.000000</td>\n",
       "    </tr>\n",
       "    <tr>\n",
       "      <th>std</th>\n",
       "      <td>218.081158</td>\n",
       "      <td>NaN</td>\n",
       "      <td>96.759853</td>\n",
       "      <td>1713.600303</td>\n",
       "    </tr>\n",
       "  </tbody>\n",
       "</table>\n",
       "</div>"
      ],
      "text/plain": [
       "            Quantity                    InvoiceDate      UnitPrice     CustomerID\n",
       "count  541909.000000                         541909  541909.000000  406829.000000\n",
       "mean        9.552250  2011-07-04 13:34:57.156386048       4.611114   15287.690570\n",
       "min    -80995.000000            2010-12-01 08:26:00  -11062.060000   12346.000000\n",
       "25%         1.000000            2011-03-28 11:34:00       1.250000   13953.000000\n",
       "50%         3.000000            2011-07-19 17:17:00       2.080000   15152.000000\n",
       "75%        10.000000            2011-10-19 11:27:00       4.130000   16791.000000\n",
       "max     80995.000000            2011-12-09 12:50:00   38970.000000   18287.000000\n",
       "std       218.081158                            NaN      96.759853    1713.600303"
      ]
     },
     "execution_count": 7,
     "metadata": {},
     "output_type": "execute_result"
    }
   ],
   "source": [
    "df.describe()"
   ]
  },
  {
   "cell_type": "code",
   "execution_count": 8,
   "id": "6e4a9b91-a0cd-4013-aa5c-637abe392b2f",
   "metadata": {},
   "outputs": [
    {
     "data": {
      "text/plain": [
       "Index(['InvoiceNo', 'StockCode', 'Description', 'Quantity', 'InvoiceDate', 'UnitPrice', 'CustomerID', 'Country'], dtype='object')"
      ]
     },
     "execution_count": 8,
     "metadata": {},
     "output_type": "execute_result"
    }
   ],
   "source": [
    "df.columns"
   ]
  },
  {
   "cell_type": "code",
   "execution_count": 9,
   "id": "71885866-47e9-4e09-a5ad-87c5d9fec9f6",
   "metadata": {},
   "outputs": [],
   "source": [
    "df = df[df['Quantity']>0]\n",
    "df = df[df['UnitPrice']>0]\n",
    "df = df[~df['InvoiceNo'].str.contains('C',na=False)]"
   ]
  },
  {
   "cell_type": "code",
   "execution_count": 10,
   "id": "2c313623-2e63-4795-a146-f7c4baad879a",
   "metadata": {},
   "outputs": [],
   "source": [
    "df.dropna(inplace=True)"
   ]
  },
  {
   "cell_type": "code",
   "execution_count": 11,
   "id": "564c35c2-9479-47f2-9e24-69acd0532445",
   "metadata": {},
   "outputs": [],
   "source": [
    "def find_boundaries(df, variable,q1=0.05,q2=0.95):\n",
    "\n",
    "    lower_boundary = df[variable].quantile(q1)\n",
    "    upper_boundary = df[variable].quantile(q2)\n",
    "\n",
    "    return upper_boundary,lower_boundary\n",
    "\n",
    "def capping_outliers(df,variable):\n",
    "    upper_boundary,lower_boundary = find_boundaries(df,variable)\n",
    "    df[variable]=np.where(df[variable] > upper_boundary, upper_boundary,\n",
    "                         np.where(df[variable]< lower_boundary,lower_boundary,df[variable]))"
   ]
  },
  {
   "cell_type": "code",
   "execution_count": 12,
   "id": "221fbfbc-15db-4388-bca7-097efee3f7de",
   "metadata": {},
   "outputs": [],
   "source": [
    "capping_outliers(df,'UnitPrice')\n",
    "capping_outliers(df,'Quantity')"
   ]
  },
  {
   "cell_type": "code",
   "execution_count": 13,
   "id": "6a69c349-9cff-40d6-a8c1-b200e64c48ef",
   "metadata": {},
   "outputs": [
    {
     "data": {
      "text/html": [
       "<div>\n",
       "<style scoped>\n",
       "    .dataframe tbody tr th:only-of-type {\n",
       "        vertical-align: middle;\n",
       "    }\n",
       "\n",
       "    .dataframe tbody tr th {\n",
       "        vertical-align: top;\n",
       "    }\n",
       "\n",
       "    .dataframe thead th {\n",
       "        text-align: right;\n",
       "    }\n",
       "</style>\n",
       "<table border=\"1\" class=\"dataframe\">\n",
       "  <thead>\n",
       "    <tr style=\"text-align: right;\">\n",
       "      <th></th>\n",
       "      <th>Quantity</th>\n",
       "      <th>InvoiceDate</th>\n",
       "      <th>UnitPrice</th>\n",
       "      <th>CustomerID</th>\n",
       "    </tr>\n",
       "  </thead>\n",
       "  <tbody>\n",
       "    <tr>\n",
       "      <th>count</th>\n",
       "      <td>397884.000000</td>\n",
       "      <td>397884</td>\n",
       "      <td>397884.000000</td>\n",
       "      <td>397884.000000</td>\n",
       "    </tr>\n",
       "    <tr>\n",
       "      <th>mean</th>\n",
       "      <td>8.868022</td>\n",
       "      <td>2011-07-10 23:41:23.511023360</td>\n",
       "      <td>2.675785</td>\n",
       "      <td>15294.423453</td>\n",
       "    </tr>\n",
       "    <tr>\n",
       "      <th>min</th>\n",
       "      <td>1.000000</td>\n",
       "      <td>2010-12-01 08:26:00</td>\n",
       "      <td>0.420000</td>\n",
       "      <td>12346.000000</td>\n",
       "    </tr>\n",
       "    <tr>\n",
       "      <th>25%</th>\n",
       "      <td>2.000000</td>\n",
       "      <td>2011-04-07 11:12:00</td>\n",
       "      <td>1.250000</td>\n",
       "      <td>13969.000000</td>\n",
       "    </tr>\n",
       "    <tr>\n",
       "      <th>50%</th>\n",
       "      <td>6.000000</td>\n",
       "      <td>2011-07-31 14:39:00</td>\n",
       "      <td>1.950000</td>\n",
       "      <td>15159.000000</td>\n",
       "    </tr>\n",
       "    <tr>\n",
       "      <th>75%</th>\n",
       "      <td>12.000000</td>\n",
       "      <td>2011-10-20 14:33:00</td>\n",
       "      <td>3.750000</td>\n",
       "      <td>16795.000000</td>\n",
       "    </tr>\n",
       "    <tr>\n",
       "      <th>max</th>\n",
       "      <td>36.000000</td>\n",
       "      <td>2011-12-09 12:50:00</td>\n",
       "      <td>8.500000</td>\n",
       "      <td>18287.000000</td>\n",
       "    </tr>\n",
       "    <tr>\n",
       "      <th>std</th>\n",
       "      <td>9.523425</td>\n",
       "      <td>NaN</td>\n",
       "      <td>2.275053</td>\n",
       "      <td>1713.141560</td>\n",
       "    </tr>\n",
       "  </tbody>\n",
       "</table>\n",
       "</div>"
      ],
      "text/plain": [
       "            Quantity                    InvoiceDate      UnitPrice     CustomerID\n",
       "count  397884.000000                         397884  397884.000000  397884.000000\n",
       "mean        8.868022  2011-07-10 23:41:23.511023360       2.675785   15294.423453\n",
       "min         1.000000            2010-12-01 08:26:00       0.420000   12346.000000\n",
       "25%         2.000000            2011-04-07 11:12:00       1.250000   13969.000000\n",
       "50%         6.000000            2011-07-31 14:39:00       1.950000   15159.000000\n",
       "75%        12.000000            2011-10-20 14:33:00       3.750000   16795.000000\n",
       "max        36.000000            2011-12-09 12:50:00       8.500000   18287.000000\n",
       "std         9.523425                            NaN       2.275053    1713.141560"
      ]
     },
     "execution_count": 13,
     "metadata": {},
     "output_type": "execute_result"
    }
   ],
   "source": [
    "df.describe()"
   ]
  },
  {
   "cell_type": "code",
   "execution_count": 14,
   "id": "0f2d6268-05fd-41a5-b1bc-85f1034c0139",
   "metadata": {},
   "outputs": [],
   "source": [
    "df = df[df.Country =='United Kingdom']"
   ]
  },
  {
   "cell_type": "code",
   "execution_count": 15,
   "id": "00d708ee-e9ec-4674-9596-9911a558fc8c",
   "metadata": {},
   "outputs": [
    {
     "data": {
      "text/html": [
       "<div>\n",
       "<style scoped>\n",
       "    .dataframe tbody tr th:only-of-type {\n",
       "        vertical-align: middle;\n",
       "    }\n",
       "\n",
       "    .dataframe tbody tr th {\n",
       "        vertical-align: top;\n",
       "    }\n",
       "\n",
       "    .dataframe thead th {\n",
       "        text-align: right;\n",
       "    }\n",
       "</style>\n",
       "<table border=\"1\" class=\"dataframe\">\n",
       "  <thead>\n",
       "    <tr style=\"text-align: right;\">\n",
       "      <th></th>\n",
       "      <th>InvoiceNo</th>\n",
       "      <th>StockCode</th>\n",
       "      <th>Description</th>\n",
       "      <th>Quantity</th>\n",
       "      <th>InvoiceDate</th>\n",
       "      <th>UnitPrice</th>\n",
       "      <th>CustomerID</th>\n",
       "      <th>Country</th>\n",
       "    </tr>\n",
       "  </thead>\n",
       "  <tbody>\n",
       "    <tr>\n",
       "      <th>0</th>\n",
       "      <td>536365</td>\n",
       "      <td>85123A</td>\n",
       "      <td>WHITE HANGING HEART T-LIGHT HOLDER</td>\n",
       "      <td>6.0</td>\n",
       "      <td>2010-12-01 08:26:00</td>\n",
       "      <td>2.55</td>\n",
       "      <td>17850.0</td>\n",
       "      <td>United Kingdom</td>\n",
       "    </tr>\n",
       "    <tr>\n",
       "      <th>1</th>\n",
       "      <td>536365</td>\n",
       "      <td>71053</td>\n",
       "      <td>WHITE METAL LANTERN</td>\n",
       "      <td>6.0</td>\n",
       "      <td>2010-12-01 08:26:00</td>\n",
       "      <td>3.39</td>\n",
       "      <td>17850.0</td>\n",
       "      <td>United Kingdom</td>\n",
       "    </tr>\n",
       "    <tr>\n",
       "      <th>2</th>\n",
       "      <td>536365</td>\n",
       "      <td>84406B</td>\n",
       "      <td>CREAM CUPID HEARTS COAT HANGER</td>\n",
       "      <td>8.0</td>\n",
       "      <td>2010-12-01 08:26:00</td>\n",
       "      <td>2.75</td>\n",
       "      <td>17850.0</td>\n",
       "      <td>United Kingdom</td>\n",
       "    </tr>\n",
       "    <tr>\n",
       "      <th>3</th>\n",
       "      <td>536365</td>\n",
       "      <td>84029G</td>\n",
       "      <td>KNITTED UNION FLAG HOT WATER BOTTLE</td>\n",
       "      <td>6.0</td>\n",
       "      <td>2010-12-01 08:26:00</td>\n",
       "      <td>3.39</td>\n",
       "      <td>17850.0</td>\n",
       "      <td>United Kingdom</td>\n",
       "    </tr>\n",
       "    <tr>\n",
       "      <th>4</th>\n",
       "      <td>536365</td>\n",
       "      <td>84029E</td>\n",
       "      <td>RED WOOLLY HOTTIE WHITE HEART.</td>\n",
       "      <td>6.0</td>\n",
       "      <td>2010-12-01 08:26:00</td>\n",
       "      <td>3.39</td>\n",
       "      <td>17850.0</td>\n",
       "      <td>United Kingdom</td>\n",
       "    </tr>\n",
       "  </tbody>\n",
       "</table>\n",
       "</div>"
      ],
      "text/plain": [
       "  InvoiceNo StockCode                          Description  Quantity         InvoiceDate  UnitPrice  CustomerID         Country\n",
       "0    536365    85123A   WHITE HANGING HEART T-LIGHT HOLDER       6.0 2010-12-01 08:26:00       2.55     17850.0  United Kingdom\n",
       "1    536365     71053                  WHITE METAL LANTERN       6.0 2010-12-01 08:26:00       3.39     17850.0  United Kingdom\n",
       "2    536365    84406B       CREAM CUPID HEARTS COAT HANGER       8.0 2010-12-01 08:26:00       2.75     17850.0  United Kingdom\n",
       "3    536365    84029G  KNITTED UNION FLAG HOT WATER BOTTLE       6.0 2010-12-01 08:26:00       3.39     17850.0  United Kingdom\n",
       "4    536365    84029E       RED WOOLLY HOTTIE WHITE HEART.       6.0 2010-12-01 08:26:00       3.39     17850.0  United Kingdom"
      ]
     },
     "execution_count": 15,
     "metadata": {},
     "output_type": "execute_result"
    }
   ],
   "source": [
    "df.head()"
   ]
  },
  {
   "cell_type": "code",
   "execution_count": 16,
   "id": "f40b3342-ff84-4f6f-8352-cc7c628ae08f",
   "metadata": {},
   "outputs": [],
   "source": [
    "df['Total Price'] = df['UnitPrice'] * df['Quantity']"
   ]
  },
  {
   "cell_type": "code",
   "execution_count": 17,
   "id": "cb6edf12-e390-4717-be9a-1a0b4d35058b",
   "metadata": {},
   "outputs": [
    {
     "data": {
      "text/html": [
       "<div>\n",
       "<style scoped>\n",
       "    .dataframe tbody tr th:only-of-type {\n",
       "        vertical-align: middle;\n",
       "    }\n",
       "\n",
       "    .dataframe tbody tr th {\n",
       "        vertical-align: top;\n",
       "    }\n",
       "\n",
       "    .dataframe thead th {\n",
       "        text-align: right;\n",
       "    }\n",
       "</style>\n",
       "<table border=\"1\" class=\"dataframe\">\n",
       "  <thead>\n",
       "    <tr style=\"text-align: right;\">\n",
       "      <th></th>\n",
       "      <th>InvoiceNo</th>\n",
       "      <th>StockCode</th>\n",
       "      <th>Description</th>\n",
       "      <th>Quantity</th>\n",
       "      <th>InvoiceDate</th>\n",
       "      <th>UnitPrice</th>\n",
       "      <th>CustomerID</th>\n",
       "      <th>Country</th>\n",
       "      <th>Total Price</th>\n",
       "    </tr>\n",
       "  </thead>\n",
       "  <tbody>\n",
       "    <tr>\n",
       "      <th>0</th>\n",
       "      <td>536365</td>\n",
       "      <td>85123A</td>\n",
       "      <td>WHITE HANGING HEART T-LIGHT HOLDER</td>\n",
       "      <td>6.0</td>\n",
       "      <td>2010-12-01 08:26:00</td>\n",
       "      <td>2.55</td>\n",
       "      <td>17850.0</td>\n",
       "      <td>United Kingdom</td>\n",
       "      <td>15.30</td>\n",
       "    </tr>\n",
       "    <tr>\n",
       "      <th>1</th>\n",
       "      <td>536365</td>\n",
       "      <td>71053</td>\n",
       "      <td>WHITE METAL LANTERN</td>\n",
       "      <td>6.0</td>\n",
       "      <td>2010-12-01 08:26:00</td>\n",
       "      <td>3.39</td>\n",
       "      <td>17850.0</td>\n",
       "      <td>United Kingdom</td>\n",
       "      <td>20.34</td>\n",
       "    </tr>\n",
       "    <tr>\n",
       "      <th>2</th>\n",
       "      <td>536365</td>\n",
       "      <td>84406B</td>\n",
       "      <td>CREAM CUPID HEARTS COAT HANGER</td>\n",
       "      <td>8.0</td>\n",
       "      <td>2010-12-01 08:26:00</td>\n",
       "      <td>2.75</td>\n",
       "      <td>17850.0</td>\n",
       "      <td>United Kingdom</td>\n",
       "      <td>22.00</td>\n",
       "    </tr>\n",
       "    <tr>\n",
       "      <th>3</th>\n",
       "      <td>536365</td>\n",
       "      <td>84029G</td>\n",
       "      <td>KNITTED UNION FLAG HOT WATER BOTTLE</td>\n",
       "      <td>6.0</td>\n",
       "      <td>2010-12-01 08:26:00</td>\n",
       "      <td>3.39</td>\n",
       "      <td>17850.0</td>\n",
       "      <td>United Kingdom</td>\n",
       "      <td>20.34</td>\n",
       "    </tr>\n",
       "    <tr>\n",
       "      <th>4</th>\n",
       "      <td>536365</td>\n",
       "      <td>84029E</td>\n",
       "      <td>RED WOOLLY HOTTIE WHITE HEART.</td>\n",
       "      <td>6.0</td>\n",
       "      <td>2010-12-01 08:26:00</td>\n",
       "      <td>3.39</td>\n",
       "      <td>17850.0</td>\n",
       "      <td>United Kingdom</td>\n",
       "      <td>20.34</td>\n",
       "    </tr>\n",
       "  </tbody>\n",
       "</table>\n",
       "</div>"
      ],
      "text/plain": [
       "  InvoiceNo StockCode                          Description  Quantity         InvoiceDate  UnitPrice  CustomerID         Country  Total Price\n",
       "0    536365    85123A   WHITE HANGING HEART T-LIGHT HOLDER       6.0 2010-12-01 08:26:00       2.55     17850.0  United Kingdom        15.30\n",
       "1    536365     71053                  WHITE METAL LANTERN       6.0 2010-12-01 08:26:00       3.39     17850.0  United Kingdom        20.34\n",
       "2    536365    84406B       CREAM CUPID HEARTS COAT HANGER       8.0 2010-12-01 08:26:00       2.75     17850.0  United Kingdom        22.00\n",
       "3    536365    84029G  KNITTED UNION FLAG HOT WATER BOTTLE       6.0 2010-12-01 08:26:00       3.39     17850.0  United Kingdom        20.34\n",
       "4    536365    84029E       RED WOOLLY HOTTIE WHITE HEART.       6.0 2010-12-01 08:26:00       3.39     17850.0  United Kingdom        20.34"
      ]
     },
     "execution_count": 17,
     "metadata": {},
     "output_type": "execute_result"
    }
   ],
   "source": [
    "df.head()"
   ]
  },
  {
   "cell_type": "code",
   "execution_count": 18,
   "id": "c61f71d1-ca08-4fc2-980e-774e087b4d4e",
   "metadata": {},
   "outputs": [],
   "source": [
    "clv = lifetimes.utils.summary_data_from_transaction_data(df,'CustomerID','InvoiceDate','Total Price',observation_period_end='2011-12-09')"
   ]
  },
  {
   "cell_type": "code",
   "execution_count": 19,
   "id": "ffca6e3d-8a83-4943-8958-ce2f3b2881a5",
   "metadata": {},
   "outputs": [],
   "source": [
    "clv = clv[clv['frequency']>1]"
   ]
  },
  {
   "cell_type": "code",
   "execution_count": 20,
   "id": "743f9b12-0175-40ea-9426-62b961206401",
   "metadata": {},
   "outputs": [
    {
     "data": {
      "text/html": [
       "<div>\n",
       "<style scoped>\n",
       "    .dataframe tbody tr th:only-of-type {\n",
       "        vertical-align: middle;\n",
       "    }\n",
       "\n",
       "    .dataframe tbody tr th {\n",
       "        vertical-align: top;\n",
       "    }\n",
       "\n",
       "    .dataframe thead th {\n",
       "        text-align: right;\n",
       "    }\n",
       "</style>\n",
       "<table border=\"1\" class=\"dataframe\">\n",
       "  <thead>\n",
       "    <tr style=\"text-align: right;\">\n",
       "      <th></th>\n",
       "      <th>frequency</th>\n",
       "      <th>recency</th>\n",
       "      <th>T</th>\n",
       "      <th>monetary_value</th>\n",
       "    </tr>\n",
       "    <tr>\n",
       "      <th>CustomerID</th>\n",
       "      <th></th>\n",
       "      <th></th>\n",
       "      <th></th>\n",
       "      <th></th>\n",
       "    </tr>\n",
       "  </thead>\n",
       "  <tbody>\n",
       "    <tr>\n",
       "      <th>12747.0</th>\n",
       "      <td>10.0</td>\n",
       "      <td>367.0</td>\n",
       "      <td>369.0</td>\n",
       "      <td>375.725000</td>\n",
       "    </tr>\n",
       "    <tr>\n",
       "      <th>12748.0</th>\n",
       "      <td>112.0</td>\n",
       "      <td>373.0</td>\n",
       "      <td>373.0</td>\n",
       "      <td>257.314911</td>\n",
       "    </tr>\n",
       "    <tr>\n",
       "      <th>12749.0</th>\n",
       "      <td>3.0</td>\n",
       "      <td>210.0</td>\n",
       "      <td>213.0</td>\n",
       "      <td>999.106667</td>\n",
       "    </tr>\n",
       "    <tr>\n",
       "      <th>12820.0</th>\n",
       "      <td>3.0</td>\n",
       "      <td>323.0</td>\n",
       "      <td>326.0</td>\n",
       "      <td>256.573333</td>\n",
       "    </tr>\n",
       "    <tr>\n",
       "      <th>12823.0</th>\n",
       "      <td>4.0</td>\n",
       "      <td>222.0</td>\n",
       "      <td>296.0</td>\n",
       "      <td>252.450000</td>\n",
       "    </tr>\n",
       "  </tbody>\n",
       "</table>\n",
       "</div>"
      ],
      "text/plain": [
       "            frequency  recency      T  monetary_value\n",
       "CustomerID                                           \n",
       "12747.0          10.0    367.0  369.0      375.725000\n",
       "12748.0         112.0    373.0  373.0      257.314911\n",
       "12749.0           3.0    210.0  213.0      999.106667\n",
       "12820.0           3.0    323.0  326.0      256.573333\n",
       "12823.0           4.0    222.0  296.0      252.450000"
      ]
     },
     "execution_count": 20,
     "metadata": {},
     "output_type": "execute_result"
    }
   ],
   "source": [
    "clv.head()"
   ]
  },
  {
   "cell_type": "code",
   "execution_count": 21,
   "id": "5302ee75-7f90-4117-876a-c221abb5bc6d",
   "metadata": {},
   "outputs": [
    {
     "data": {
      "text/plain": [
       "<lifetimes.BetaGeoFitter: fitted with 1738 subjects, a: 0.00, alpha: 112.07, b: 0.00, r: 2.38>"
      ]
     },
     "execution_count": 21,
     "metadata": {},
     "output_type": "execute_result"
    }
   ],
   "source": [
    "bgf = BetaGeoFitter(penalizer_coef=0.001)\n",
    "bgf.fit(clv['frequency'],clv['recency'],clv['T'])"
   ]
  },
  {
   "cell_type": "code",
   "execution_count": 22,
   "id": "2a340fde-695d-4d50-9e42-aa05a9d8fe10",
   "metadata": {},
   "outputs": [
    {
     "data": {
      "text/html": [
       "<div>\n",
       "<style scoped>\n",
       "    .dataframe tbody tr th:only-of-type {\n",
       "        vertical-align: middle;\n",
       "    }\n",
       "\n",
       "    .dataframe tbody tr th {\n",
       "        vertical-align: top;\n",
       "    }\n",
       "\n",
       "    .dataframe thead th {\n",
       "        text-align: right;\n",
       "    }\n",
       "</style>\n",
       "<table border=\"1\" class=\"dataframe\">\n",
       "  <thead>\n",
       "    <tr style=\"text-align: right;\">\n",
       "      <th></th>\n",
       "      <th>coef</th>\n",
       "      <th>se(coef)</th>\n",
       "      <th>lower 95% bound</th>\n",
       "      <th>upper 95% bound</th>\n",
       "    </tr>\n",
       "  </thead>\n",
       "  <tbody>\n",
       "    <tr>\n",
       "      <th>r</th>\n",
       "      <td>2.381731e+00</td>\n",
       "      <td>1.013873e-01</td>\n",
       "      <td>2.183012e+00</td>\n",
       "      <td>2.580451e+00</td>\n",
       "    </tr>\n",
       "    <tr>\n",
       "      <th>alpha</th>\n",
       "      <td>1.120749e+02</td>\n",
       "      <td>5.267568e+00</td>\n",
       "      <td>1.017504e+02</td>\n",
       "      <td>1.223993e+02</td>\n",
       "    </tr>\n",
       "    <tr>\n",
       "      <th>a</th>\n",
       "      <td>2.301100e-14</td>\n",
       "      <td>3.668820e-10</td>\n",
       "      <td>-7.190657e-10</td>\n",
       "      <td>7.191117e-10</td>\n",
       "    </tr>\n",
       "    <tr>\n",
       "      <th>b</th>\n",
       "      <td>2.398753e-05</td>\n",
       "      <td>3.819870e-01</td>\n",
       "      <td>-7.486706e-01</td>\n",
       "      <td>7.487186e-01</td>\n",
       "    </tr>\n",
       "  </tbody>\n",
       "</table>\n",
       "</div>"
      ],
      "text/plain": [
       "               coef      se(coef)  lower 95% bound  upper 95% bound\n",
       "r      2.381731e+00  1.013873e-01     2.183012e+00     2.580451e+00\n",
       "alpha  1.120749e+02  5.267568e+00     1.017504e+02     1.223993e+02\n",
       "a      2.301100e-14  3.668820e-10    -7.190657e-10     7.191117e-10\n",
       "b      2.398753e-05  3.819870e-01    -7.486706e-01     7.487186e-01"
      ]
     },
     "execution_count": 22,
     "metadata": {},
     "output_type": "execute_result"
    }
   ],
   "source": [
    "bgf.summary"
   ]
  },
  {
   "cell_type": "code",
   "execution_count": 23,
   "id": "edb855b3-06a0-4c40-abc0-0e90fa15633d",
   "metadata": {},
   "outputs": [
    {
     "data": {
      "image/png": "[encoded data removed]",
      "text/plain": [
       "<Figure size 800x600 with 2 Axes>"
      ]
     },
     "metadata": {},
     "output_type": "display_data"
    }
   ],
   "source": [
    "plt.figure(figsize=(8,6))\n",
    "plot_probability_alive_matrix(bgf)\n",
    "plt.show()"
   ]
  },
  {
   "cell_type": "code",
   "execution_count": 24,
   "id": "7d79887f-e17c-4564-bfef-07f37ac9a737",
   "metadata": {},
   "outputs": [
    {
     "data": {
      "text/html": [
       "<div>\n",
       "<style scoped>\n",
       "    .dataframe tbody tr th:only-of-type {\n",
       "        vertical-align: middle;\n",
       "    }\n",
       "\n",
       "    .dataframe tbody tr th {\n",
       "        vertical-align: top;\n",
       "    }\n",
       "\n",
       "    .dataframe thead th {\n",
       "        text-align: right;\n",
       "    }\n",
       "</style>\n",
       "<table border=\"1\" class=\"dataframe\">\n",
       "  <thead>\n",
       "    <tr style=\"text-align: right;\">\n",
       "      <th></th>\n",
       "      <th>frequency</th>\n",
       "      <th>recency</th>\n",
       "      <th>T</th>\n",
       "      <th>monetary_value</th>\n",
       "      <th>expected_purc_6_months</th>\n",
       "    </tr>\n",
       "    <tr>\n",
       "      <th>CustomerID</th>\n",
       "      <th></th>\n",
       "      <th></th>\n",
       "      <th></th>\n",
       "      <th></th>\n",
       "      <th></th>\n",
       "    </tr>\n",
       "  </thead>\n",
       "  <tbody>\n",
       "    <tr>\n",
       "      <th>12748.0</th>\n",
       "      <td>112.0</td>\n",
       "      <td>373.0</td>\n",
       "      <td>373.0</td>\n",
       "      <td>257.314911</td>\n",
       "      <td>42.444401</td>\n",
       "    </tr>\n",
       "    <tr>\n",
       "      <th>17841.0</th>\n",
       "      <td>111.0</td>\n",
       "      <td>372.0</td>\n",
       "      <td>373.0</td>\n",
       "      <td>349.079640</td>\n",
       "      <td>42.073324</td>\n",
       "    </tr>\n",
       "    <tr>\n",
       "      <th>15311.0</th>\n",
       "      <td>89.0</td>\n",
       "      <td>373.0</td>\n",
       "      <td>373.0</td>\n",
       "      <td>421.881573</td>\n",
       "      <td>33.909635</td>\n",
       "    </tr>\n",
       "    <tr>\n",
       "      <th>14606.0</th>\n",
       "      <td>88.0</td>\n",
       "      <td>372.0</td>\n",
       "      <td>373.0</td>\n",
       "      <td>125.302955</td>\n",
       "      <td>33.538559</td>\n",
       "    </tr>\n",
       "    <tr>\n",
       "      <th>12971.0</th>\n",
       "      <td>70.0</td>\n",
       "      <td>369.0</td>\n",
       "      <td>372.0</td>\n",
       "      <td>132.197571</td>\n",
       "      <td>26.914663</td>\n",
       "    </tr>\n",
       "  </tbody>\n",
       "</table>\n",
       "</div>"
      ],
      "text/plain": [
       "            frequency  recency      T  monetary_value  expected_purc_6_months\n",
       "CustomerID                                                                   \n",
       "12748.0         112.0    373.0  373.0      257.314911               42.444401\n",
       "17841.0         111.0    372.0  373.0      349.079640               42.073324\n",
       "15311.0          89.0    373.0  373.0      421.881573               33.909635\n",
       "14606.0          88.0    372.0  373.0      125.302955               33.538559\n",
       "12971.0          70.0    369.0  372.0      132.197571               26.914663"
      ]
     },
     "execution_count": 24,
     "metadata": {},
     "output_type": "execute_result"
    }
   ],
   "source": [
    "t = 180\n",
    "clv['expected_purc_6_months'] = bgf.conditional_expected_number_of_purchases_up_to_time(t,clv['frequency'],clv['recency'], clv['T'])\n",
    "clv.sort_values(by='expected_purc_6_months',ascending=False).head(5)"
   ]
  },
  {
   "cell_type": "code",
   "execution_count": 25,
   "id": "e73f39e0-7132-4f2c-94e3-e9c9afe6560b",
   "metadata": {},
   "outputs": [
    {
     "data": {
      "text/html": [
       "<div>\n",
       "<style scoped>\n",
       "    .dataframe tbody tr th:only-of-type {\n",
       "        vertical-align: middle;\n",
       "    }\n",
       "\n",
       "    .dataframe tbody tr th {\n",
       "        vertical-align: top;\n",
       "    }\n",
       "\n",
       "    .dataframe thead th {\n",
       "        text-align: right;\n",
       "    }\n",
       "</style>\n",
       "<table border=\"1\" class=\"dataframe\">\n",
       "  <thead>\n",
       "    <tr style=\"text-align: right;\">\n",
       "      <th></th>\n",
       "      <th>frequency</th>\n",
       "      <th>monetary_value</th>\n",
       "    </tr>\n",
       "  </thead>\n",
       "  <tbody>\n",
       "    <tr>\n",
       "      <th>frequency</th>\n",
       "      <td>1.000000</td>\n",
       "      <td>0.082631</td>\n",
       "    </tr>\n",
       "    <tr>\n",
       "      <th>monetary_value</th>\n",
       "      <td>0.082631</td>\n",
       "      <td>1.000000</td>\n",
       "    </tr>\n",
       "  </tbody>\n",
       "</table>\n",
       "</div>"
      ],
      "text/plain": [
       "                frequency  monetary_value\n",
       "frequency        1.000000        0.082631\n",
       "monetary_value   0.082631        1.000000"
      ]
     },
     "execution_count": 25,
     "metadata": {},
     "output_type": "execute_result"
    }
   ],
   "source": [
    "clv[['frequency','monetary_value']].corr()"
   ]
  },
  {
   "cell_type": "code",
   "execution_count": 26,
   "id": "f38ad1f7-0e6f-4587-9bb1-d78419b16e47",
   "metadata": {},
   "outputs": [
    {
     "data": {
      "text/plain": [
       "<lifetimes.GammaGammaFitter: fitted with 1738 subjects, p: 3.80, q: 0.35, v: 3.73>"
      ]
     },
     "execution_count": 26,
     "metadata": {},
     "output_type": "execute_result"
    }
   ],
   "source": [
    "ggf = GammaGammaFitter(penalizer_coef=0.01)\n",
    "ggf.fit(clv['frequency'],\n",
    "       clv['monetary_value'])"
   ]
  },
  {
   "cell_type": "code",
   "execution_count": 27,
   "id": "e8f2b62c-c570-4258-9386-c505a0483b50",
   "metadata": {},
   "outputs": [],
   "source": [
    "clv['6_Months_clv']=ggf.customer_lifetime_value(bgf,\n",
    "                                               clv['frequency'],\n",
    "                                               clv['recency'],\n",
    "                                               clv['T'],\n",
    "                                               clv['monetary_value'],\n",
    "                                               time =6,\n",
    "                                               freq='D',\n",
    "                                               discount_rate=0.01)"
   ]
  },
  {
   "cell_type": "code",
   "execution_count": 28,
   "id": "d5ca7386-639d-4db1-8084-88198c61f3bd",
   "metadata": {},
   "outputs": [
    {
     "data": {
      "text/html": [
       "<div>\n",
       "<style scoped>\n",
       "    .dataframe tbody tr th:only-of-type {\n",
       "        vertical-align: middle;\n",
       "    }\n",
       "\n",
       "    .dataframe tbody tr th {\n",
       "        vertical-align: top;\n",
       "    }\n",
       "\n",
       "    .dataframe thead th {\n",
       "        text-align: right;\n",
       "    }\n",
       "</style>\n",
       "<table border=\"1\" class=\"dataframe\">\n",
       "  <thead>\n",
       "    <tr style=\"text-align: right;\">\n",
       "      <th></th>\n",
       "      <th>frequency</th>\n",
       "      <th>recency</th>\n",
       "      <th>T</th>\n",
       "      <th>monetary_value</th>\n",
       "      <th>expected_purc_6_months</th>\n",
       "      <th>6_Months_clv</th>\n",
       "    </tr>\n",
       "    <tr>\n",
       "      <th>CustomerID</th>\n",
       "      <th></th>\n",
       "      <th></th>\n",
       "      <th></th>\n",
       "      <th></th>\n",
       "      <th></th>\n",
       "      <th></th>\n",
       "    </tr>\n",
       "  </thead>\n",
       "  <tbody>\n",
       "    <tr>\n",
       "      <th>14096.0</th>\n",
       "      <td>16.0</td>\n",
       "      <td>97.0</td>\n",
       "      <td>101.0</td>\n",
       "      <td>3012.454375</td>\n",
       "      <td>15.528400</td>\n",
       "      <td>45677.610915</td>\n",
       "    </tr>\n",
       "    <tr>\n",
       "      <th>18102.0</th>\n",
       "      <td>25.0</td>\n",
       "      <td>367.0</td>\n",
       "      <td>367.0</td>\n",
       "      <td>2112.843200</td>\n",
       "      <td>10.287978</td>\n",
       "      <td>21142.592872</td>\n",
       "    </tr>\n",
       "    <tr>\n",
       "      <th>13089.0</th>\n",
       "      <td>65.0</td>\n",
       "      <td>367.0</td>\n",
       "      <td>369.0</td>\n",
       "      <td>784.818308</td>\n",
       "      <td>25.211693</td>\n",
       "      <td>19164.137958</td>\n",
       "    </tr>\n",
       "    <tr>\n",
       "      <th>17511.0</th>\n",
       "      <td>27.0</td>\n",
       "      <td>371.0</td>\n",
       "      <td>373.0</td>\n",
       "      <td>1798.113704</td>\n",
       "      <td>10.902877</td>\n",
       "      <td>19058.975876</td>\n",
       "    </tr>\n",
       "    <tr>\n",
       "      <th>14088.0</th>\n",
       "      <td>11.0</td>\n",
       "      <td>312.0</td>\n",
       "      <td>322.0</td>\n",
       "      <td>3352.988182</td>\n",
       "      <td>5.549070</td>\n",
       "      <td>18258.492844</td>\n",
       "    </tr>\n",
       "  </tbody>\n",
       "</table>\n",
       "</div>"
      ],
      "text/plain": [
       "            frequency  recency      T  monetary_value  expected_purc_6_months  6_Months_clv\n",
       "CustomerID                                                                                 \n",
       "14096.0          16.0     97.0  101.0     3012.454375               15.528400  45677.610915\n",
       "18102.0          25.0    367.0  367.0     2112.843200               10.287978  21142.592872\n",
       "13089.0          65.0    367.0  369.0      784.818308               25.211693  19164.137958\n",
       "17511.0          27.0    371.0  373.0     1798.113704               10.902877  19058.975876\n",
       "14088.0          11.0    312.0  322.0     3352.988182                5.549070  18258.492844"
      ]
     },
     "execution_count": 28,
     "metadata": {},
     "output_type": "execute_result"
    }
   ],
   "source": [
    "clv.sort_values('6_Months_clv',ascending=False).head()"
   ]
  },
  {
   "cell_type": "code",
   "execution_count": 29,
   "id": "4bc5f686-fbbf-4cc7-aa6e-54f10647cc75",
   "metadata": {},
   "outputs": [],
   "source": [
    "clv['Segment']=pd.qcut(\n",
    "    clv['6_Months_clv'],\n",
    "    q=4,\n",
    "    labels=['Hibernating','Need Attention','Loyal Customer','Champions']\n",
    "    \n",
    ")"
   ]
  },
  {
   "cell_type": "code",
   "execution_count": 30,
   "id": "d1b80ce5-7e5d-4a42-a7a6-7a29362319f5",
   "metadata": {},
   "outputs": [
    {
     "data": {
      "text/html": [
       "<div>\n",
       "<style scoped>\n",
       "    .dataframe tbody tr th:only-of-type {\n",
       "        vertical-align: middle;\n",
       "    }\n",
       "\n",
       "    .dataframe tbody tr th {\n",
       "        vertical-align: top;\n",
       "    }\n",
       "\n",
       "    .dataframe thead th {\n",
       "        text-align: right;\n",
       "    }\n",
       "</style>\n",
       "<table border=\"1\" class=\"dataframe\">\n",
       "  <thead>\n",
       "    <tr style=\"text-align: right;\">\n",
       "      <th></th>\n",
       "      <th>frequency</th>\n",
       "      <th>recency</th>\n",
       "      <th>T</th>\n",
       "      <th>monetary_value</th>\n",
       "      <th>expected_purc_6_months</th>\n",
       "      <th>6_Months_clv</th>\n",
       "      <th>Segment</th>\n",
       "    </tr>\n",
       "    <tr>\n",
       "      <th>CustomerID</th>\n",
       "      <th></th>\n",
       "      <th></th>\n",
       "      <th></th>\n",
       "      <th></th>\n",
       "      <th></th>\n",
       "      <th></th>\n",
       "      <th></th>\n",
       "    </tr>\n",
       "  </thead>\n",
       "  <tbody>\n",
       "    <tr>\n",
       "      <th>12747.0</th>\n",
       "      <td>10.0</td>\n",
       "      <td>367.0</td>\n",
       "      <td>369.0</td>\n",
       "      <td>375.725000</td>\n",
       "      <td>4.632775</td>\n",
       "      <td>1712.381633</td>\n",
       "      <td>Champions</td>\n",
       "    </tr>\n",
       "    <tr>\n",
       "      <th>12748.0</th>\n",
       "      <td>112.0</td>\n",
       "      <td>373.0</td>\n",
       "      <td>373.0</td>\n",
       "      <td>257.314911</td>\n",
       "      <td>42.444401</td>\n",
       "      <td>10566.853327</td>\n",
       "      <td>Champions</td>\n",
       "    </tr>\n",
       "    <tr>\n",
       "      <th>12749.0</th>\n",
       "      <td>3.0</td>\n",
       "      <td>210.0</td>\n",
       "      <td>213.0</td>\n",
       "      <td>999.106667</td>\n",
       "      <td>2.979965</td>\n",
       "      <td>3054.158128</td>\n",
       "      <td>Champions</td>\n",
       "    </tr>\n",
       "    <tr>\n",
       "      <th>12820.0</th>\n",
       "      <td>3.0</td>\n",
       "      <td>323.0</td>\n",
       "      <td>326.0</td>\n",
       "      <td>256.573333</td>\n",
       "      <td>2.211293</td>\n",
       "      <td>584.100407</td>\n",
       "      <td>Need Attention</td>\n",
       "    </tr>\n",
       "    <tr>\n",
       "      <th>12823.0</th>\n",
       "      <td>4.0</td>\n",
       "      <td>222.0</td>\n",
       "      <td>296.0</td>\n",
       "      <td>252.450000</td>\n",
       "      <td>2.814953</td>\n",
       "      <td>719.842220</td>\n",
       "      <td>Need Attention</td>\n",
       "    </tr>\n",
       "  </tbody>\n",
       "</table>\n",
       "</div>"
      ],
      "text/plain": [
       "            frequency  recency      T  monetary_value  expected_purc_6_months  6_Months_clv         Segment\n",
       "CustomerID                                                                                                 \n",
       "12747.0          10.0    367.0  369.0      375.725000                4.632775   1712.381633       Champions\n",
       "12748.0         112.0    373.0  373.0      257.314911               42.444401  10566.853327       Champions\n",
       "12749.0           3.0    210.0  213.0      999.106667                2.979965   3054.158128       Champions\n",
       "12820.0           3.0    323.0  326.0      256.573333                2.211293    584.100407  Need Attention\n",
       "12823.0           4.0    222.0  296.0      252.450000                2.814953    719.842220  Need Attention"
      ]
     },
     "execution_count": 30,
     "metadata": {},
     "output_type": "execute_result"
    }
   ],
   "source": [
    "clv.head()"
   ]
  },
  {
   "cell_type": "code",
   "execution_count": 31,
   "id": "14f6f196-0482-4272-9292-9e5cc6e87218",
   "metadata": {},
   "outputs": [
    {
     "data": {
      "text/html": [
       "<div>\n",
       "<style scoped>\n",
       "    .dataframe tbody tr th:only-of-type {\n",
       "        vertical-align: middle;\n",
       "    }\n",
       "\n",
       "    .dataframe tbody tr th {\n",
       "        vertical-align: top;\n",
       "    }\n",
       "\n",
       "    .dataframe thead th {\n",
       "        text-align: right;\n",
       "    }\n",
       "</style>\n",
       "<table border=\"1\" class=\"dataframe\">\n",
       "  <thead>\n",
       "    <tr style=\"text-align: right;\">\n",
       "      <th></th>\n",
       "      <th>frequency</th>\n",
       "      <th>recency</th>\n",
       "      <th>T</th>\n",
       "      <th>monetary_value</th>\n",
       "      <th>expected_purc_6_months</th>\n",
       "      <th>6_Months_clv</th>\n",
       "    </tr>\n",
       "    <tr>\n",
       "      <th>Segment</th>\n",
       "      <th></th>\n",
       "      <th></th>\n",
       "      <th></th>\n",
       "      <th></th>\n",
       "      <th></th>\n",
       "      <th></th>\n",
       "    </tr>\n",
       "  </thead>\n",
       "  <tbody>\n",
       "    <tr>\n",
       "      <th>Hibernating</th>\n",
       "      <td>3.174713</td>\n",
       "      <td>221.337931</td>\n",
       "      <td>292.245977</td>\n",
       "      <td>147.152900</td>\n",
       "      <td>2.553847</td>\n",
       "      <td>364.667903</td>\n",
       "    </tr>\n",
       "    <tr>\n",
       "      <th>Need Attention</th>\n",
       "      <td>4.027650</td>\n",
       "      <td>240.140553</td>\n",
       "      <td>284.440092</td>\n",
       "      <td>265.378345</td>\n",
       "      <td>2.989161</td>\n",
       "      <td>745.573232</td>\n",
       "    </tr>\n",
       "    <tr>\n",
       "      <th>Loyal Customer</th>\n",
       "      <td>5.592166</td>\n",
       "      <td>242.944700</td>\n",
       "      <td>276.027650</td>\n",
       "      <td>365.362234</td>\n",
       "      <td>3.759721</td>\n",
       "      <td>1234.753807</td>\n",
       "    </tr>\n",
       "    <tr>\n",
       "      <th>Champions</th>\n",
       "      <td>11.108046</td>\n",
       "      <td>261.354023</td>\n",
       "      <td>280.475862</td>\n",
       "      <td>584.771128</td>\n",
       "      <td>5.994943</td>\n",
       "      <td>3095.935737</td>\n",
       "    </tr>\n",
       "  </tbody>\n",
       "</table>\n",
       "</div>"
      ],
      "text/plain": [
       "                frequency     recency           T  monetary_value  expected_purc_6_months  6_Months_clv\n",
       "Segment                                                                                                \n",
       "Hibernating      3.174713  221.337931  292.245977      147.152900                2.553847    364.667903\n",
       "Need Attention   4.027650  240.140553  284.440092      265.378345                2.989161    745.573232\n",
       "Loyal Customer   5.592166  242.944700  276.027650      365.362234                3.759721   1234.753807\n",
       "Champions       11.108046  261.354023  280.475862      584.771128                5.994943   3095.935737"
      ]
     },
     "execution_count": 31,
     "metadata": {},
     "output_type": "execute_result"
    }
   ],
   "source": [
    "clv.groupby('Segment').mean()"
   ]
  },
  {
   "cell_type": "code",
   "execution_count": 32,
   "id": "38949cb9-df1b-4b7e-be94-bd8f3a08bdea",
   "metadata": {},
   "outputs": [],
   "source": [
    "from datetime import timedelta\n",
    "from sklearn.model_selection import train_test_split\n",
    "from sklearn.ensemble import RandomForestRegressor\n",
    "from sklearn.metrics import mean_absolute_error, mean_squared_error"
   ]
  },
  {
   "cell_type": "code",
   "execution_count": 33,
   "id": "835a1bb5-e56d-450d-8860-ae77bea46f73",
   "metadata": {},
   "outputs": [],
   "source": [
    "df['InvoiceDate'] = pd.to_datetime(df['InvoiceDate'])"
   ]
  },
  {
   "cell_type": "code",
   "execution_count": 34,
   "id": "1ba38092-ce75-4469-af93-2dfe15ea1cd3",
   "metadata": {},
   "outputs": [],
   "source": [
    "df = df.dropna(subset=['CustomerID'])"
   ]
  },
  {
   "cell_type": "code",
   "execution_count": 35,
   "id": "5dddb4a7-e003-446f-811e-68c9ab2ba7e0",
   "metadata": {},
   "outputs": [],
   "source": [
    "df['Total Price'] = df['Quantity'] * df['UnitPrice']"
   ]
  },
  {
   "cell_type": "code",
   "execution_count": 36,
   "id": "c6c840ca-a2bb-4783-9fd3-a27cd193b114",
   "metadata": {},
   "outputs": [],
   "source": [
    "snapshot_date = df['InvoiceDate'].max() + timedelta(days=1)"
   ]
  },
  {
   "cell_type": "code",
   "execution_count": 37,
   "id": "aa2e5be6-3d8e-4bd0-b366-0dc971c8b36c",
   "metadata": {},
   "outputs": [],
   "source": [
    "rfm = df.groupby('CustomerID').agg({\n",
    "    'InvoiceDate': lambda x: (snapshot_date - x.max()).days,  \n",
    "    'InvoiceNo': 'count',                                     \n",
    "    'Total Price': 'sum'                                       \n",
    "}).rename(columns={\n",
    "    'InvoiceDate': 'Recency',\n",
    "    'InvoiceNo': 'Frequency',\n",
    "    'Total Price': 'Monetary'\n",
    "})"
   ]
  },
  {
   "cell_type": "code",
   "execution_count": 38,
   "id": "4d290f1d-96ec-402a-8b6d-74b02a717a2e",
   "metadata": {},
   "outputs": [],
   "source": [
    "rfm['AOV'] = rfm['Monetary'] / rfm['Frequency']"
   ]
  },
  {
   "cell_type": "code",
   "execution_count": 39,
   "id": "d102f721-843d-49a9-b551-5426034810bb",
   "metadata": {},
   "outputs": [],
   "source": [
    "rfm['clv'] = rfm['Monetary']"
   ]
  },
  {
   "cell_type": "raw",
   "id": "a84d6015-b96c-4bd9-9f76-8e92fdf14000",
   "metadata": {},
   "source": [
    "print(\"RFM features calculated:\\n\", rfm.head())"
   ]
  },
  {
   "cell_type": "code",
   "execution_count": 42,
   "id": "52b998fe-b342-4b04-a597-acc238f1cde5",
   "metadata": {},
   "outputs": [],
   "source": [
    "X = rfm[['Recency', 'Frequency', 'AOV']]\n",
    "Y = rfm['clv']"
   ]
  },
  {
   "cell_type": "code",
   "execution_count": 43,
   "id": "73946c9d-df5f-436a-a35f-c04f447eebdf",
   "metadata": {},
   "outputs": [],
   "source": [
    "X_train, X_test, Y_train, Y_test = train_test_split(\n",
    "    X, Y, test_size=0.2, random_state=42)"
   ]
  },
  {
   "cell_type": "code",
   "execution_count": 44,
   "id": "1284ef62-cba0-4b0d-9190-e061e87d891f",
   "metadata": {},
   "outputs": [],
   "source": [
    "model = RandomForestRegressor(n_estimators=100, random_state=42)\n",
    "model.fit(X_train, Y_train)\n",
    "\n",
    "Y_pred = model.predict(X_test)"
   ]
  },
  {
   "cell_type": "code",
   "execution_count": 47,
   "id": "11dfed6e-5dc9-4a76-b91e-5e44440449f9",
   "metadata": {},
   "outputs": [],
   "source": [
    "mae = mean_absolute_error(Y_test, Y_pred)\n",
    "rmse = np.sqrt(mean_squared_error(Y_test, Y_pred))"
   ]
  },
  {
   "cell_type": "code",
   "execution_count": 48,
   "id": "6a88a1fe-0974-4f23-a0bd-5fbece93a777",
   "metadata": {},
   "outputs": [
    {
     "name": "stdout",
     "output_type": "stream",
     "text": [
      "Model performance:\n",
      "MAE: 112.74\n",
      "RMSE: 1217.20\n"
     ]
    }
   ],
   "source": [
    "print(f\"Model performance:\\nMAE: {mae:.2f}\\nRMSE: {rmse:.2f}\")"
   ]
  },
  {
   "cell_type": "code",
   "execution_count": 49,
   "id": "7b37fa94-0ab2-404c-8f21-f492613e4fe2",
   "metadata": {},
   "outputs": [],
   "source": [
    "rfm['PredictedCLV'] = model.predict(X)\n",
    "rfm['CLV_Segment'] = pd.qcut(\n",
    "    rfm['PredictedCLV'], q=4, labels=['Low', 'Mid-Low', 'Mid-High', 'High'])"
   ]
  },
  {
   "cell_type": "code",
   "execution_count": 51,
   "id": "ac9bc305-3ea6-43e1-bd3e-74b73a67bb8a",
   "metadata": {},
   "outputs": [
    {
     "name": "stdout",
     "output_type": "stream",
     "text": [
      "\n",
      "Sample predictions with segments:\n",
      "             PredictedCLV CLV_Segment\n",
      "CustomerID                          \n",
      "12346.0          38.0192         Low\n",
      "12747.0        4095.7803        High\n",
      "12748.0       27774.0154        High\n",
      "12749.0        3792.4316        High\n",
      "12820.0         943.0784    Mid-High\n"
     ]
    }
   ],
   "source": [
    "print(\"\\nSample predictions with segments:\\n\", rfm[['PredictedCLV', 'CLV_Segment']].head())"
   ]
  },
  {
   "cell_type": "code",
   "execution_count": 52,
   "id": "62593c6a-18cc-4802-99a4-3c41d12b383e",
   "metadata": {},
   "outputs": [
    {
     "name": "stdout",
     "output_type": "stream",
     "text": [
      "\n",
      "Final predictions saved as final_clv_predictions.csv\n"
     ]
    }
   ],
   "source": [
    "rfm.reset_index().to_csv(\"final_clv_predictions.csv\", index=False)\n",
    "print(\"\\nFinal predictions saved as final_clv_predictions.csv\")"
   ]
  },
  {
   "cell_type": "code",
   "execution_count": 53,
   "id": "04a90f96-6b31-407c-8860-19a8b7fb9a0e",
   "metadata": {},
   "outputs": [
    {
     "data": {
      "image/png": "[encoded data removed]",
      "text/plain": [
       "<Figure size 800x500 with 1 Axes>"
      ]
     },
     "metadata": {},
     "output_type": "display_data"
    }
   ],
   "source": [
    "import matplotlib.pyplot as plt\n",
    "\n",
    "plt.figure(figsize=(8,5))\n",
    "plt.hist(rfm['PredictedCLV'], bins=30, color='skyblue', edgecolor='black')\n",
    "plt.title(\"Distribution of Predicted CLV\")\n",
    "plt.xlabel(\"Predicted CLV\")\n",
    "plt.ylabel(\"Number of Customers\")\n",
    "plt.show()"
   ]
  },
  {
   "cell_type": "code",
   "execution_count": 54,
   "id": "666298ed-8637-4ac2-9596-ba9e9165ad99",
   "metadata": {},
   "outputs": [
    {
     "data": {
      "image/png": "[encoded data removed]",
      "text/plain": [
       "<Figure size 640x480 with 1 Axes>"
      ]
     },
     "metadata": {},
     "output_type": "display_data"
    }
   ],
   "source": [
    "rfm['CLV_Segment'].value_counts().sort_index().plot(\n",
    "    kind='bar', color='lightgreen', edgecolor='black')\n",
    "plt.title(\"Number of Customers per CLV Segment\")\n",
    "plt.xlabel(\"Segment\")\n",
    "plt.ylabel(\"Count\")\n",
    "plt.show()"
   ]
  },
  {
   "cell_type": "code",
   "execution_count": null,
   "id": "31ff9e17-26bf-47af-b789-cae5e2e1f6b9",
   "metadata": {},
   "outputs": [],
   "source": []
  }
 ],
 "metadata": {
  "kernelspec": {
   "display_name": "Python 3 (ipykernel)",
   "language": "python",
   "name": "python3"
  },
  "language_info": {
   "codemirror_mode": {
    "name": "ipython",
    "version": 3
   },
   "file_extension": ".py",
   "mimetype": "text/x-python",
   "name": "python",
   "nbconvert_exporter": "python",
   "pygments_lexer": "ipython3",
   "version": "3.12.3"
  }
 },
 "nbformat": 4,
 "nbformat_minor": 5
}
